{
  "nbformat": 4,
  "nbformat_minor": 0,
  "metadata": {
    "colab": {
      "name": "Mnist gan",
      "provenance": []
    },
    "kernelspec": {
      "name": "python3",
      "display_name": "Python 3"
    },
    "accelerator": "GPU"
  },
  "cells": [
    {
      "cell_type": "code",
      "metadata": {
        "id": "MhSQIlqRORja"
      },
      "source": [
        "import tensorflow as tf\r\n",
        "import PIL\r\n",
        "from tensorflow.keras import layers\r\n",
        "import time\r\n",
        "import numpy as np\r\n",
        "import matplotlib.pyplot as plt\r\n",
        "\r\n"
      ],
      "execution_count": 1,
      "outputs": []
    },
    {
      "cell_type": "code",
      "metadata": {
        "id": "qSnKetFeOfFv"
      },
      "source": [
        "(train_images,train_labels),(_,_)= tf.keras.datasets.mnist.load_data()"
      ],
      "execution_count": 19,
      "outputs": []
    },
    {
      "cell_type": "code",
      "metadata": {
        "id": "w3OKNutdOzr5"
      },
      "source": [
        "train_images=train_images.reshape(train_images.shape[0],28,28,1).astype(np.float32)"
      ],
      "execution_count": 20,
      "outputs": []
    },
    {
      "cell_type": "code",
      "metadata": {
        "id": "4Oytqj-QO8UF"
      },
      "source": [
        "train_images=(train_images-127.5)/127.5"
      ],
      "execution_count": 21,
      "outputs": []
    },
    {
      "cell_type": "code",
      "metadata": {
        "id": "_8RSU3gQPRPG"
      },
      "source": [
        "# create the dataset\r\n",
        "BUFFER_SIZE = 60000\r\n",
        "BATCH_SIZE = 32\r\n",
        "train_dataset=tf.data.Dataset.from_tensor_slices(train_images).shuffle(60000).batch(BATCH_SIZE)"
      ],
      "execution_count": 22,
      "outputs": []
    },
    {
      "cell_type": "code",
      "metadata": {
        "id": "8H0t22fUPkgC"
      },
      "source": [
        "# create the generator\r\n",
        "\r\n",
        "def gen_model():\r\n",
        "  model=tf.keras.Sequential()\r\n",
        "  model.add(layers.Dense(7*7*256,use_bias=False,input_shape=(100,)))\r\n",
        "  model.add(layers.BatchNormalization())\r\n",
        "  model.add(layers.LeakyReLU())\r\n",
        "  model.add(layers.Reshape((7,7,256)))\r\n",
        "\r\n",
        "  model.add(layers.Conv2DTranspose(128,(5,5),strides=(1,1), padding='same',use_bias=False))\r\n",
        "  assert model.output_shape==(None,7,7,128)\r\n",
        "  model.add(layers.BatchNormalization())\r\n",
        "  model.add(layers.LeakyReLU())\r\n",
        "\r\n",
        "  model.add(layers.Conv2DTranspose(64, (5,5),strides=(2,2),padding='same',use_bias=False))\r\n",
        "  assert model.output_shape==(None,14,14,64)\r\n",
        "  model.add(layers.BatchNormalization())\r\n",
        "  model.add(layers.LeakyReLU())\r\n",
        "\r\n",
        "  model.add(layers.Conv2DTranspose(1,(5,5),strides=(2,2),padding='same',use_bias=False,activation='tanh'))\r\n",
        "  assert model.output_shape==(None,28,28,1)\r\n",
        "\r\n",
        "  return model"
      ],
      "execution_count": 23,
      "outputs": []
    },
    {
      "cell_type": "code",
      "metadata": {
        "colab": {
          "base_uri": "https://localhost:8080/"
        },
        "id": "Lmzq5VRNR-iA",
        "outputId": "ca1454e6-6567-43f2-d12f-cf219f584c9a"
      },
      "source": [
        "generator=gen_model()\r\n",
        "generator.summary()"
      ],
      "execution_count": 24,
      "outputs": [
        {
          "output_type": "stream",
          "text": [
            "Model: \"sequential_4\"\n",
            "_________________________________________________________________\n",
            "Layer (type)                 Output Shape              Param #   \n",
            "=================================================================\n",
            "dense_3 (Dense)              (None, 12544)             1254400   \n",
            "_________________________________________________________________\n",
            "batch_normalization_6 (Batch (None, 12544)             50176     \n",
            "_________________________________________________________________\n",
            "leaky_re_lu_8 (LeakyReLU)    (None, 12544)             0         \n",
            "_________________________________________________________________\n",
            "reshape_2 (Reshape)          (None, 7, 7, 256)         0         \n",
            "_________________________________________________________________\n",
            "conv2d_transpose_6 (Conv2DTr (None, 7, 7, 128)         819200    \n",
            "_________________________________________________________________\n",
            "batch_normalization_7 (Batch (None, 7, 7, 128)         512       \n",
            "_________________________________________________________________\n",
            "leaky_re_lu_9 (LeakyReLU)    (None, 7, 7, 128)         0         \n",
            "_________________________________________________________________\n",
            "conv2d_transpose_7 (Conv2DTr (None, 14, 14, 64)        204800    \n",
            "_________________________________________________________________\n",
            "batch_normalization_8 (Batch (None, 14, 14, 64)        256       \n",
            "_________________________________________________________________\n",
            "leaky_re_lu_10 (LeakyReLU)   (None, 14, 14, 64)        0         \n",
            "_________________________________________________________________\n",
            "conv2d_transpose_8 (Conv2DTr (None, 28, 28, 1)         1600      \n",
            "=================================================================\n",
            "Total params: 2,330,944\n",
            "Trainable params: 2,305,472\n",
            "Non-trainable params: 25,472\n",
            "_________________________________________________________________\n"
          ],
          "name": "stdout"
        }
      ]
    },
    {
      "cell_type": "code",
      "metadata": {
        "colab": {
          "base_uri": "https://localhost:8080/"
        },
        "id": "8J76pUkISC6j",
        "outputId": "2bde9f62-d4eb-40f8-87d0-11cd67cc1f94"
      },
      "source": [
        "# create an image with the new generator\r\n",
        "noise=tf.random.normal([1,100])\r\n",
        "generated_images= generator(noise,training=False)\r\n",
        "\r\n",
        "generated_images.shape"
      ],
      "execution_count": 25,
      "outputs": [
        {
          "output_type": "execute_result",
          "data": {
            "text/plain": [
              "TensorShape([1, 28, 28, 1])"
            ]
          },
          "metadata": {
            "tags": []
          },
          "execution_count": 25
        }
      ]
    },
    {
      "cell_type": "code",
      "metadata": {
        "colab": {
          "base_uri": "https://localhost:8080/",
          "height": 283
        },
        "id": "N4nONRG8SiB4",
        "outputId": "3da20b6f-5575-4c0d-e4ce-a481fb5f6d94"
      },
      "source": [
        "plt.imshow(generated_images[0,:,:,0],cmap='gray')"
      ],
      "execution_count": 26,
      "outputs": [
        {
          "output_type": "execute_result",
          "data": {
            "text/plain": [
              "<matplotlib.image.AxesImage at 0x7f6f5e292b70>"
            ]
          },
          "metadata": {
            "tags": []
          },
          "execution_count": 26
        },
        {
          "output_type": "display_data",
          "data": {
            "image/png": "[encoded data removed]",
            "text/plain": [
              "<Figure size 432x288 with 1 Axes>"
            ]
          },
          "metadata": {
            "tags": [],
            "needs_background": "light"
          }
        }
      ]
    },
    {
      "cell_type": "code",
      "metadata": {
        "id": "6lJPxPd3SuJq"
      },
      "source": [
        "# discriminator creation\r\n",
        "def disc_model():\r\n",
        "\r\n",
        "  model=tf.keras.Sequential()\r\n",
        "  model.add(layers.Conv2D(64,(5,5),strides=(2,2),padding='same',input_shape=[28,28,1]))\r\n",
        "  model.add(layers.LeakyReLU())\r\n",
        "  model.add(layers.Dropout(0.3))\r\n",
        "\r\n",
        "  model.add(layers.Conv2D(128,(5,5),strides=(2,2),padding='same'))\r\n",
        "  model.add(layers.LeakyReLU())\r\n",
        "  model.add(layers.Dropout(0.3))\r\n",
        "\r\n",
        "  model.add(layers.Flatten())\r\n",
        "  model.add(layers.Dense(1,activation='sigmoid'))\r\n",
        "\r\n",
        "  return model"
      ],
      "execution_count": 27,
      "outputs": []
    },
    {
      "cell_type": "code",
      "metadata": {
        "id": "BCwUTOpcTlHC"
      },
      "source": [
        "discriminator=disc_model()"
      ],
      "execution_count": 28,
      "outputs": []
    },
    {
      "cell_type": "code",
      "metadata": {
        "colab": {
          "base_uri": "https://localhost:8080/"
        },
        "id": "aDWjQB7AToBg",
        "outputId": "577e2ce6-b910-4844-edbc-e7c4ae57b4c5"
      },
      "source": [
        "# make one decision\r\n",
        "decision=discriminator(generated_images)\r\n",
        "print(decision)"
      ],
      "execution_count": 29,
      "outputs": [
        {
          "output_type": "stream",
          "text": [
            "tf.Tensor([[0.49957055]], shape=(1, 1), dtype=float32)\n"
          ],
          "name": "stdout"
        }
      ]
    },
    {
      "cell_type": "code",
      "metadata": {
        "id": "Ddbyf1WzUc-E"
      },
      "source": [
        "gan=tf.keras.models.Sequential([generator,discriminator])"
      ],
      "execution_count": 30,
      "outputs": []
    },
    {
      "cell_type": "code",
      "metadata": {
        "id": "gN2zoKaJT3Cr"
      },
      "source": [
        "# compile\r\n",
        "optimizer= tf.keras.optimizers.Adam(1e-4)\r\n",
        "discriminator.compile(loss='binary_crossentropy',optimizer=optimizer)\r\n",
        "discriminator.trainable=False\r\n",
        "gan.compile(loss='binary_crossentropy',optimizer=optimizer)\r\n",
        "\r\n"
      ],
      "execution_count": 31,
      "outputs": []
    },
    {
      "cell_type": "code",
      "metadata": {
        "colab": {
          "base_uri": "https://localhost:8080/"
        },
        "id": "1LLTm_9UUpia",
        "outputId": "a42c85d9-ced1-4872-cf1d-394c6984eae2"
      },
      "source": [
        "# training the gan\r\n",
        "\r\n",
        "def train_gan(gan,dataset,batch_size,n_epochs=50):\r\n",
        "  generator,discriminator=gan.layers\r\n",
        "  for epoch in range(n_epochs):\r\n",
        "    print(\"New epoch started\")\r\n",
        "    start = time.time()\r\n",
        "\r\n",
        "    for X_batch in dataset:\r\n",
        "      # phase 1 training tje discriminator\r\n",
        "      noise=tf.random.normal(shape=[batch_size,100])\r\n",
        "      generated_images=generator(noise)\r\n",
        "      X_fake_and_real=tf.concat([generated_images,X_batch],axis=0)\r\n",
        "      y1=tf.constant([[0.]]*batch_size+[[1.]]*batch_size)\r\n",
        "      discriminator.trainable=True\r\n",
        "      discriminator.train_on_batch(X_fake_and_real,y1)\r\n",
        "\r\n",
        "      # phase 2 training the generator\r\n",
        "      noise=tf.random.normal(shape=[batch_size,100])\r\n",
        "      y2=tf.constant([[1.]]*batch_size)\r\n",
        "      discriminator.trainable=False\r\n",
        "      gan.train_on_batch(noise,y2)\r\n",
        "\r\n",
        "    print ('Time for epoch {} is {} sec'.format(epoch + 1, time.time()-start))\r\n",
        "\r\n",
        "\r\n",
        "train_gan(gan,train_dataset,BATCH_SIZE)"
      ],
      "execution_count": 32,
      "outputs": [
        {
          "output_type": "stream",
          "text": [
            "New epoch started\n",
            "Time for epoch 1 is 42.11985111236572 sec\n",
            "New epoch started\n",
            "Time for epoch 2 is 41.155789375305176 sec\n",
            "New epoch started\n",
            "Time for epoch 3 is 40.8705153465271 sec\n",
            "New epoch started\n",
            "Time for epoch 4 is 40.875643491744995 sec\n",
            "New epoch started\n",
            "Time for epoch 5 is 40.87270498275757 sec\n",
            "New epoch started\n",
            "Time for epoch 6 is 41.19143605232239 sec\n",
            "New epoch started\n",
            "Time for epoch 7 is 40.7128803730011 sec\n",
            "New epoch started\n",
            "Time for epoch 8 is 40.92960333824158 sec\n",
            "New epoch started\n",
            "Time for epoch 9 is 40.91702747344971 sec\n",
            "New epoch started\n",
            "Time for epoch 10 is 40.85818576812744 sec\n",
            "New epoch started\n",
            "Time for epoch 11 is 40.97085666656494 sec\n",
            "New epoch started\n",
            "Time for epoch 12 is 40.92260956764221 sec\n",
            "New epoch started\n",
            "Time for epoch 13 is 41.29762244224548 sec\n",
            "New epoch started\n",
            "Time for epoch 14 is 40.62803626060486 sec\n",
            "New epoch started\n",
            "Time for epoch 15 is 40.78602123260498 sec\n",
            "New epoch started\n",
            "Time for epoch 16 is 40.8514199256897 sec\n",
            "New epoch started\n",
            "Time for epoch 17 is 40.53764343261719 sec\n",
            "New epoch started\n",
            "Time for epoch 18 is 40.58119225502014 sec\n",
            "New epoch started\n",
            "Time for epoch 19 is 40.65053343772888 sec\n",
            "New epoch started\n",
            "Time for epoch 20 is 40.780038595199585 sec\n",
            "New epoch started\n",
            "Time for epoch 21 is 40.991384983062744 sec\n",
            "New epoch started\n",
            "Time for epoch 22 is 40.576733112335205 sec\n",
            "New epoch started\n",
            "Time for epoch 23 is 40.51660895347595 sec\n",
            "New epoch started\n",
            "Time for epoch 24 is 40.78451943397522 sec\n",
            "New epoch started\n",
            "Time for epoch 25 is 40.56678819656372 sec\n",
            "New epoch started\n",
            "Time for epoch 26 is 40.540390729904175 sec\n",
            "New epoch started\n",
            "Time for epoch 27 is 40.57993674278259 sec\n",
            "New epoch started\n",
            "Time for epoch 28 is 40.853853940963745 sec\n",
            "New epoch started\n",
            "Time for epoch 29 is 40.62610483169556 sec\n",
            "New epoch started\n",
            "Time for epoch 30 is 40.47434878349304 sec\n",
            "New epoch started\n",
            "Time for epoch 31 is 40.51573920249939 sec\n",
            "New epoch started\n",
            "Time for epoch 32 is 40.46361494064331 sec\n",
            "New epoch started\n",
            "Time for epoch 33 is 40.55799388885498 sec\n",
            "New epoch started\n",
            "Time for epoch 34 is 40.4073600769043 sec\n",
            "New epoch started\n",
            "Time for epoch 35 is 40.297735929489136 sec\n",
            "New epoch started\n",
            "Time for epoch 36 is 40.985039472579956 sec\n",
            "New epoch started\n",
            "Time for epoch 37 is 40.419352769851685 sec\n",
            "New epoch started\n",
            "Time for epoch 38 is 40.43876552581787 sec\n",
            "New epoch started\n",
            "Time for epoch 39 is 40.67752647399902 sec\n",
            "New epoch started\n",
            "Time for epoch 40 is 40.38642358779907 sec\n",
            "New epoch started\n",
            "Time for epoch 41 is 40.32650113105774 sec\n",
            "New epoch started\n",
            "Time for epoch 42 is 40.49556279182434 sec\n",
            "New epoch started\n",
            "Time for epoch 43 is 40.7786660194397 sec\n",
            "New epoch started\n",
            "Time for epoch 44 is 41.642810583114624 sec\n",
            "New epoch started\n",
            "Time for epoch 45 is 40.729612827301025 sec\n",
            "New epoch started\n",
            "Time for epoch 46 is 40.65423774719238 sec\n",
            "New epoch started\n",
            "Time for epoch 47 is 40.50395345687866 sec\n",
            "New epoch started\n",
            "Time for epoch 48 is 40.681288719177246 sec\n",
            "New epoch started\n",
            "Time for epoch 49 is 40.53658604621887 sec\n",
            "New epoch started\n",
            "Time for epoch 50 is 40.59166097640991 sec\n"
          ],
          "name": "stdout"
        }
      ]
    },
    {
      "cell_type": "code",
      "metadata": {
        "colab": {
          "base_uri": "https://localhost:8080/",
          "height": 248
        },
        "id": "rF04oelWWF9T",
        "outputId": "3aee63f5-bfec-4b8a-b9ee-2f7159be58f7"
      },
      "source": [
        "seed = tf.random.normal([16, 100])\r\n",
        "predictions =generator(seed, training=False)\r\n",
        "\r\n",
        "fig = plt.figure(figsize=(4,4))\r\n",
        "\r\n",
        "for i in range(predictions.shape[0]):\r\n",
        "  plt.subplot(4, 4, i+1)\r\n",
        "  plt.imshow(predictions[i, :, :, 0] * 127.5 + 127.5, cmap='gray')\r\n",
        "  plt.axis('off')"
      ],
      "execution_count": 33,
      "outputs": [
        {
          "output_type": "display_data",
          "data": {
            "image/png": "[encoded data removed]",
            "text/plain": [
              "<Figure size 288x288 with 16 Axes>"
            ]
          },
          "metadata": {
            "tags": [],
            "needs_background": "light"
          }
        }
      ]
    },
    {
      "cell_type": "code",
      "metadata": {
        "id": "Mi702fqGgJLH"
      },
      "source": [
        ""
      ],
      "execution_count": null,
      "outputs": []
    }
  ]
}