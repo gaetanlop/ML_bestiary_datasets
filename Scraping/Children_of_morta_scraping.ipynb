{
 "cells": [
  {
   "cell_type": "markdown",
   "metadata": {},
   "source": [
    "# Imports"
   ]
  },
  {
   "cell_type": "code",
   "execution_count": 1,
   "metadata": {},
   "outputs": [],
   "source": [
    "from urllib.request import urlopen\n",
    "from bs4 import BeautifulSoup\n",
    "import re\n",
    "import urllib.request\n",
    "from PIL import Image "
   ]
  },
  {
   "cell_type": "markdown",
   "metadata": {},
   "source": [
    "# Found urls of each monsters from website"
   ]
  },
  {
   "cell_type": "code",
   "execution_count": 2,
   "metadata": {},
   "outputs": [
    {
     "name": "stdout",
     "output_type": "stream",
     "text": [
      "https://static.wikia.nocookie.net/childrenofmorta_gamepedia/images/f/f8/Anarchy_Spider.png/revision/latest/scale-to-width-down/40?cb=20191001162240\n",
      "\n",
      "https://static.wikia.nocookie.net/childrenofmorta_gamepedia/images/7/74/Archer_Goblin.png/revision/latest/scale-to-width-down/40?cb=20191001161352\n",
      "\n",
      "https://static.wikia.nocookie.net/childrenofmorta_gamepedia/images/a/ad/Bat.png/revision/latest/scale-to-width-down/40?cb=20191001161448\n",
      "\n",
      "https://static.wikia.nocookie.net/childrenofmorta_gamepedia/images/c/cd/Chain_Ball.png/revision/latest/scale-to-width-down/40?cb=20191001160054\n",
      "\n",
      "https://static.wikia.nocookie.net/childrenofmorta_gamepedia/images/e/e8/Charger.png/revision/latest/scale-to-width-down/40?cb=20191001162244\n",
      "\n",
      "https://static.wikia.nocookie.net/childrenofmorta_gamepedia/images/9/9f/Constructor_Mech.png/revision/latest/scale-to-width-down/40?cb=20191001162248\n",
      "\n",
      "https://static.wikia.nocookie.net/childrenofmorta_gamepedia/images/4/48/Crawler.png/revision/latest/scale-to-width-down/40?cb=20191001160135\n",
      "\n",
      "https://static.wikia.nocookie.net/childrenofmorta_gamepedia/images/1/13/Fire_Breather.png/revision/latest/scale-to-width-down/40?cb=20191001162253\n",
      "\n",
      "https://static.wikia.nocookie.net/childrenofmorta_gamepedia/images/a/ab/Ghost.png/revision/latest/scale-to-width-down/40?cb=20191001160223\n",
      "\n",
      "https://static.wikia.nocookie.net/childrenofmorta_gamepedia/images/6/66/Green_Spider.png/revision/latest/scale-to-width-down/40?cb=20191001161548\n",
      "\n",
      "https://static.wikia.nocookie.net/childrenofmorta_gamepedia/images/2/20/Mage.png/revision/latest/scale-to-width-down/40?cb=20191001160308\n",
      "\n",
      "https://static.wikia.nocookie.net/childrenofmorta_gamepedia/images/b/b3/Masher_Goblin.png/revision/latest/scale-to-width-down/40?cb=20191001161801\n",
      "\n",
      "https://static.wikia.nocookie.net/childrenofmorta_gamepedia/images/7/70/Mummy.png/revision/latest/scale-to-width-down/40?cb=20191001160404\n",
      "\n",
      "https://static.wikia.nocookie.net/childrenofmorta_gamepedia/images/e/e8/Reaper_Mech.png/revision/latest/scale-to-width-down/40?cb=20191001162258\n",
      "\n",
      "https://static.wikia.nocookie.net/childrenofmorta_gamepedia/images/0/01/Red_Spider.png/revision/latest/scale-to-width-down/40?cb=20191001161757\n",
      "\n",
      "https://static.wikia.nocookie.net/childrenofmorta_gamepedia/images/a/ab/Scorpion.png/revision/latest/scale-to-width-down/40?cb=20191001160522\n",
      "\n",
      "https://static.wikia.nocookie.net/childrenofmorta_gamepedia/images/2/23/Skeleton.png/revision/latest/scale-to-width-down/40?cb=20191001161752\n",
      "\n",
      "https://static.wikia.nocookie.net/childrenofmorta_gamepedia/images/0/06/Slipper_Shell.png/revision/latest/scale-to-width-down/40?cb=20191001160724\n",
      "\n",
      "https://static.wikia.nocookie.net/childrenofmorta_gamepedia/images/5/5a/Snake.png/revision/latest/scale-to-width-down/40?cb=20191001160822\n",
      "\n",
      "https://static.wikia.nocookie.net/childrenofmorta_gamepedia/images/6/68/Spear_Soldier.png/revision/latest/scale-to-width-down/40?cb=20191001160943\n",
      "\n",
      "https://static.wikia.nocookie.net/childrenofmorta_gamepedia/images/7/79/Spider_Queen.png/revision/latest/scale-to-width-down/40?cb=20191001161748\n",
      "\n",
      "https://static.wikia.nocookie.net/childrenofmorta_gamepedia/images/d/d6/Wind_Charger.png/revision/latest/scale-to-width-down/40?cb=20191001161052\n",
      "\n",
      "https://static.wikia.nocookie.net/childrenofmorta_gamepedia/images/8/8a/Dark_Claw.png/revision/latest/scale-to-width-down/40?cb=20191001162731\n",
      "\n",
      "https://static.wikia.nocookie.net/childrenofmorta_gamepedia/images/d/d9/Dark_Jelly_Dad.png/revision/latest/scale-to-width-down/40?cb=20191001162940\n",
      "\n",
      "https://static.wikia.nocookie.net/childrenofmorta_gamepedia/images/8/8e/Dark_Jelly_Grandson.png/revision/latest/scale-to-width-down/40?cb=20191001162953\n",
      "\n",
      "https://static.wikia.nocookie.net/childrenofmorta_gamepedia/images/1/13/Dark_Jelly_Son.png/revision/latest/scale-to-width-down/40?cb=20191001162946\n",
      "\n",
      "https://static.wikia.nocookie.net/childrenofmorta_gamepedia/images/a/ab/Dark_Masher.png/revision/latest/scale-to-width-down/40?cb=20191001162740\n",
      "\n",
      "https://static.wikia.nocookie.net/childrenofmorta_gamepedia/images/7/75/Dark_Nest.png/revision/latest/scale-to-width-down/40?cb=20191001162744\n",
      "\n",
      "https://static.wikia.nocookie.net/childrenofmorta_gamepedia/images/8/81/Dark_Shaman.png/revision/latest/scale-to-width-down/40?cb=20191001162755\n",
      "\n",
      "https://static.wikia.nocookie.net/childrenofmorta_gamepedia/images/7/70/Dark_Waller.png/revision/latest/scale-to-width-down/40?cb=20191001162759\n",
      "\n",
      "https://static.wikia.nocookie.net/childrenofmorta_gamepedia/images/5/52/Dark_Wizard.png/revision/latest/scale-to-width-down/40?cb=20191001162803\n",
      "\n",
      "https://static.wikia.nocookie.net/childrenofmorta_gamepedia/images/7/76/Dark_Worm.png/revision/latest/scale-to-width-down/40?cb=20191001162807\n",
      "\n",
      "https://static.wikia.nocookie.net/childrenofmorta_gamepedia/images/a/af/Gyn%2C_the_Machine_0030.png/revision/latest/scale-to-width-down/40?cb=20191001154004\n",
      "\n",
      "https://static.wikia.nocookie.net/childrenofmorta_gamepedia/images/c/c4/Nohar%2C_the_Stone_Golem.png/revision/latest/scale-to-width-down/40?cb=20191001153708\n",
      "\n",
      "https://static.wikia.nocookie.net/childrenofmorta_gamepedia/images/b/b2/Ou%2C_the_Mountain_God.png/revision/latest/scale-to-width-down/40?cb=20191001153212\n",
      "\n",
      "https://static.wikia.nocookie.net/childrenofmorta_gamepedia/images/8/89/Tree_of_Prosperity.png/revision/latest/scale-to-width-down/40?cb=20191001155518\n",
      "\n",
      "https://static.wikia.nocookie.net/childrenofmorta_gamepedia/images/3/34/Babylon.png/revision/latest/scale-to-width-down/40?cb=20191001155454\n",
      "\n",
      "https://static.wikia.nocookie.net/childrenofmorta_gamepedia/images/d/d5/Bushra%2C_the_Scorpion_Queen.png/revision/latest/scale-to-width-down/40?cb=20191001153844\n",
      "\n",
      "https://static.wikia.nocookie.net/childrenofmorta_gamepedia/images/5/5c/Goblin_King.png/revision/latest/scale-to-width-down/40?cb=20191001155106\n",
      "\n",
      "https://static.wikia.nocookie.net/childrenofmorta_gamepedia/images/f/f6/Goblin_Queen.png/revision/latest/scale-to-width-down/40?cb=20191001155120\n",
      "\n",
      "https://static.wikia.nocookie.net/childrenofmorta_gamepedia/images/7/74/King_of_Thieves.png/revision/latest/scale-to-width-down/40?cb=20191001155309\n",
      "\n",
      "https://static.wikia.nocookie.net/childrenofmorta_gamepedia/images/b/bd/Spider_King.png/revision/latest/scale-to-width-down/40?cb=20191001154653\n",
      "\n",
      "//i.creativecommons.org/l/by-nc-sa/3.0/88x31.png\n",
      "\n",
      "/resources-ucp/resources/assets/poweredby_mediawiki_88x31.png\n",
      "\n",
      "I found 44 monsters in Children of Morta Website\n"
     ]
    }
   ],
   "source": [
    "# open the url\n",
    "html = urlopen('https://childrenofmorta.gamepedia.com/Enemies')\n",
    "bs = BeautifulSoup(html, 'html.parser')\n",
    "# find all img elements where .png in their 'src'\n",
    "images = bs.find_all('img', {'src':re.compile('.png')})\n",
    "\n",
    "# print the url of each image scrapped\n",
    "for image in images: \n",
    "    print(image['src']+'\\n')\n",
    "\n",
    "# check number of images\n",
    "print(f'I found {len(images)} monsters in Children of Morta Website')"
   ]
  },
  {
   "cell_type": "markdown",
   "metadata": {},
   "source": [
    "# Download the images based on their urls"
   ]
  },
  {
   "cell_type": "code",
   "execution_count": 3,
   "metadata": {},
   "outputs": [],
   "source": [
    "# function to download images based on their url\n",
    "def download_png(url,file_path,file_name):\n",
    "    full_path= file_path+file_name+'.png'\n",
    "    # download the image from the url to the full_path\n",
    "    urllib.request.urlretrieve(url,full_path)"
   ]
  },
  {
   "cell_type": "code",
   "execution_count": 4,
   "metadata": {},
   "outputs": [],
   "source": [
    "i=0\n",
    "for img in images:\n",
    "    try:\n",
    "        download_png(img['src'],'children_of_morta_monsters/',f'children_of_morta_{i}')\n",
    "        i+=1\n",
    "    except:\n",
    "        pass"
   ]
  },
  {
   "cell_type": "markdown",
   "metadata": {},
   "source": [
    "# Checking images downloaded"
   ]
  },
  {
   "cell_type": "code",
   "execution_count": 5,
   "metadata": {},
   "outputs": [
    {
     "name": "stdout",
     "output_type": "stream",
     "text": [
      "(40, 28)\n"
     ]
    }
   ],
   "source": [
    "# Opening one of the images\n",
    "im = Image.open(\"children_of_morta_monsters/children_of_morta_2.png\")    \n",
    "# show image \n",
    "im.show() \n",
    "# check the size\n",
    "print(im.size)"
   ]
  },
  {
   "cell_type": "code",
   "execution_count": null,
   "metadata": {},
   "outputs": [],
   "source": []
  }
 ],
 "metadata": {
  "kernelspec": {
   "display_name": "Python 3",
   "language": "python",
   "name": "python3"
  },
  "language_info": {
   "codemirror_mode": {
    "name": "ipython",
    "version": 3
   },
   "file_extension": ".py",
   "mimetype": "text/x-python",
   "name": "python",
   "nbconvert_exporter": "python",
   "pygments_lexer": "ipython3",
   "version": "3.7.6"
  }
 },
 "nbformat": 4,
 "nbformat_minor": 4
}
