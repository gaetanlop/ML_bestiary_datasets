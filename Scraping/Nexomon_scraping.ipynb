{
 "cells": [
  {
   "cell_type": "markdown",
   "metadata": {},
   "source": [
    "# IMPORTS"
   ]
  },
  {
   "cell_type": "code",
   "execution_count": null,
   "metadata": {},
   "outputs": [],
   "source": [
    "from urllib.request import urlopen\n",
    "from bs4 import BeautifulSoup\n",
    "import re\n",
    "import urllib.request\n",
    "from PIL import Image \n"
   ]
  },
  {
   "cell_type": "markdown",
   "metadata": {},
   "source": [
    "# Download Images from website"
   ]
  },
  {
   "cell_type": "code",
   "execution_count": null,
   "metadata": {},
   "outputs": [],
   "source": [
    "i=0\n",
    "\n",
    "# function to download images based on their url\n",
    "def download_png(url,file_path,file_name):\n",
    "    full_path= file_path+file_name+'.png'\n",
    "    # download the image from the url to the full_path\n",
    "    urllib.request.urlretrieve(url,full_path)\n",
    "\n",
    "# Nexomon website has 16 pages of images\n",
    "# iterate throught the 16 pages\n",
    "for page in range(2,17):\n",
    "    # open the url\n",
    "    html = urlopen(f'https://pqube.co.uk/nexomon-extinction/category/nexopedia/page/{page}/')\n",
    "    bs = BeautifulSoup(html, 'html.parser')\n",
    "    # find all img elements where .png in their 'src'\n",
    "    images = bs.find_all('img', {'src':re.compile('.png')})\n",
    "    \n",
    "    # check the number of images per pages\n",
    "    print(len(images))\n",
    "    \n",
    "    for img in images[:-2]:\n",
    "        try: \n",
    "            # download the images \n",
    "            download_png(img['src'],'images poke_style/',f'nexomon_{i}')\n",
    "            i+=1\n",
    "        except:\n",
    "            pass\n",
    "        i+=1\n",
    "    print('Done')"
   ]
  },
  {
   "cell_type": "markdown",
   "metadata": {},
   "source": [
    "# Checking images downloaded"
   ]
  },
  {
   "cell_type": "code",
   "execution_count": 14,
   "metadata": {},
   "outputs": [],
   "source": [
    "# Opening one of the images\n",
    "im = Image.open(\"images poke_style/nexomon_2.png\")    \n",
    "# show image \n",
    "im.show() \n",
    "# check the size\n",
    "print(im.size)"
   ]
  }
 ],
 "metadata": {
  "kernelspec": {
   "display_name": "Python 3",
   "language": "python",
   "name": "python3"
  },
  "language_info": {
   "codemirror_mode": {
    "name": "ipython",
    "version": 3
   },
   "file_extension": ".py",
   "mimetype": "text/x-python",
   "name": "python",
   "nbconvert_exporter": "python",
   "pygments_lexer": "ipython3",
   "version": "3.7.6"
  }
 },
 "nbformat": 4,
 "nbformat_minor": 4
}
