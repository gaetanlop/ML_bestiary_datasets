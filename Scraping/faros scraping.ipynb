{
 "cells": [
  {
   "cell_type": "code",
   "execution_count": 2,
   "metadata": {},
   "outputs": [],
   "source": [
    "from selenium.common.exceptions import NoSuchElementException, ElementClickInterceptedException\n",
    "from selenium import webdriver\n",
    "from selenium.webdriver.common.by import By\n",
    "from selenium.webdriver.support.ui import WebDriverWait\n",
    "from selenium.webdriver.support import expected_conditions as EC\n",
    "import urllib\n",
    "import time\n",
    "import shutil\n",
    "import requests"
   ]
  },
  {
   "cell_type": "code",
   "execution_count": 3,
   "metadata": {},
   "outputs": [],
   "source": [
    "def save_image_to_file(image, dirname, suffix):\n",
    "    with open('{dirname}/pets_{suffix}.png'.format(dirname=dirname, suffix=suffix), 'wb') as out_file:\n",
    "        shutil.copyfileobj(image.raw, out_file)"
   ]
  },
  {
   "cell_type": "code",
   "execution_count": null,
   "metadata": {},
   "outputs": [
    {
     "name": "stdout",
     "output_type": "stream",
     "text": [
      "failed\n",
      "failed\n",
      "failed\n"
     ]
    }
   ],
   "source": [
    "# Working\n",
    "\n",
    "url='https://www.curseofaros.wiki/wiki/Monsters'\n",
    "options = webdriver.ChromeOptions()\n",
    "driver = webdriver.Chrome(executable_path=\"../../chromedriver.exe\", options=options)\n",
    "driver.set_window_size(1120, 1000)\n",
    "\n",
    "num=0\n",
    "\n",
    "\n",
    "    \n",
    "i=0\n",
    "driver.get(url)\n",
    "    \n",
    "    \n",
    "while i<200:\n",
    "        \n",
    "    try:\n",
    "        element=WebDriverWait(driver,10).until(EC.presence_of_element_located((By.XPATH, f\"//a[starts-with (@href,'/wiki/')]\")))\n",
    "        monsters=driver.find_elements_by_xpath(f\"//a[starts-with (@href,'/wiki/')]\")[i]\n",
    "        monsters.click()\n",
    "        \n",
    "        i+=1\n",
    "\n",
    "    \n",
    "    except:\n",
    "        print(\"failed\")\n",
    "        continue\n",
    "\n",
    "    try:\n",
    "\n",
    "        element=WebDriverWait(driver,10).until(EC.presence_of_element_located((By.XPATH, f\"//img[starts-with (@src,'/')]\")))\n",
    "        img = driver.find_element_by_xpath(f\"//img[starts-with (@src,'/')]\")\n",
    "        src = img.get_attribute('src')\n",
    "        response = requests.get(src, stream=True)\n",
    "\n",
    "        save_image_to_file(response,'faros',num)\n",
    "        num+=1\n",
    "    \n",
    "    except:\n",
    "        print(\"failed\")\n",
    "        continue\n",
    "\n",
    "\n",
    "            \n",
    "    driver.back()\n",
    "\n"
   ]
  }
 ],
 "metadata": {
  "kernelspec": {
   "display_name": "Python 3",
   "language": "python",
   "name": "python3"
  },
  "language_info": {
   "codemirror_mode": {
    "name": "ipython",
    "version": 3
   },
   "file_extension": ".py",
   "mimetype": "text/x-python",
   "name": "python",
   "nbconvert_exporter": "python",
   "pygments_lexer": "ipython3",
   "version": "3.7.6"
  }
 },
 "nbformat": 4,
 "nbformat_minor": 4
}
