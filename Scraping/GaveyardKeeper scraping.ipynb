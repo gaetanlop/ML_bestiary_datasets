{
 "cells": [
  {
   "cell_type": "markdown",
   "metadata": {},
   "source": [
    "# Imports"
   ]
  },
  {
   "cell_type": "code",
   "execution_count": 1,
   "metadata": {},
   "outputs": [],
   "source": [
    "from urllib.request import urlopen\n",
    "from bs4 import BeautifulSoup\n",
    "import re\n",
    "import urllib.request\n",
    "from PIL import Image "
   ]
  },
  {
   "cell_type": "markdown",
   "metadata": {},
   "source": [
    "# Found urls of each monsters from website"
   ]
  },
  {
   "cell_type": "code",
   "execution_count": 2,
   "metadata": {},
   "outputs": [
    {
     "name": "stdout",
     "output_type": "stream",
     "text": [
      "https://static.wikia.nocookie.net/graveyardkeeper_gamepedia_en/images/a/a8/Green_slime.png/revision/latest/scale-to-width-down/90?cb=20180820124925\n",
      "\n",
      "https://static.wikia.nocookie.net/graveyardkeeper_gamepedia_en/images/9/94/Health.png/revision/latest/scale-to-width-down/14?cb=20180604212705\n",
      "\n",
      "https://static.wikia.nocookie.net/graveyardkeeper_gamepedia_en/images/9/94/Health.png/revision/latest/scale-to-width-down/14?cb=20180604212705\n",
      "\n",
      "https://static.wikia.nocookie.net/graveyardkeeper_gamepedia_en/images/8/8d/Blue_slime.png/revision/latest/scale-to-width-down/90?cb=20180820124925\n",
      "\n",
      "https://static.wikia.nocookie.net/graveyardkeeper_gamepedia_en/images/9/94/Health.png/revision/latest/scale-to-width-down/14?cb=20180604212705\n",
      "\n",
      "https://static.wikia.nocookie.net/graveyardkeeper_gamepedia_en/images/9/94/Health.png/revision/latest/scale-to-width-down/14?cb=20180604212705\n",
      "\n",
      "https://static.wikia.nocookie.net/graveyardkeeper_gamepedia_en/images/9/91/Orange_slime.png/revision/latest/scale-to-width-down/90?cb=20180820124926\n",
      "\n",
      "https://static.wikia.nocookie.net/graveyardkeeper_gamepedia_en/images/9/94/Health.png/revision/latest/scale-to-width-down/14?cb=20180604212705\n",
      "\n",
      "https://static.wikia.nocookie.net/graveyardkeeper_gamepedia_en/images/9/94/Health.png/revision/latest/scale-to-width-down/14?cb=20180604212705\n",
      "\n",
      "https://static.wikia.nocookie.net/graveyardkeeper_gamepedia_en/images/1/1e/Black_slime.png/revision/latest/scale-to-width-down/90?cb=20180820124927\n",
      "\n",
      "https://static.wikia.nocookie.net/graveyardkeeper_gamepedia_en/images/9/94/Health.png/revision/latest/scale-to-width-down/14?cb=20180604212705\n",
      "\n",
      "https://static.wikia.nocookie.net/graveyardkeeper_gamepedia_en/images/9/94/Health.png/revision/latest/scale-to-width-down/14?cb=20180604212705\n",
      "\n",
      "https://static.wikia.nocookie.net/graveyardkeeper_gamepedia_en/images/4/44/Giant_bat.png/revision/latest/scale-to-width-down/90?cb=20180820124930\n",
      "\n",
      "https://static.wikia.nocookie.net/graveyardkeeper_gamepedia_en/images/9/94/Health.png/revision/latest/scale-to-width-down/14?cb=20180604212705\n",
      "\n",
      "https://static.wikia.nocookie.net/graveyardkeeper_gamepedia_en/images/9/94/Health.png/revision/latest/scale-to-width-down/14?cb=20180604212705\n",
      "\n",
      "https://static.wikia.nocookie.net/graveyardkeeper_gamepedia_en/images/8/8a/Firebat.png/revision/latest/scale-to-width-down/90?cb=20180820124929\n",
      "\n",
      "https://static.wikia.nocookie.net/graveyardkeeper_gamepedia_en/images/9/94/Health.png/revision/latest/scale-to-width-down/14?cb=20180604212705\n",
      "\n",
      "https://static.wikia.nocookie.net/graveyardkeeper_gamepedia_en/images/9/94/Health.png/revision/latest/scale-to-width-down/14?cb=20180604212705\n",
      "\n",
      "https://static.wikia.nocookie.net/graveyardkeeper_gamepedia_en/images/9/94/Health.png/revision/latest/scale-to-width-down/14?cb=20180604212705\n",
      "\n",
      "https://static.wikia.nocookie.net/graveyardkeeper_gamepedia_en/images/f/f6/Giant_fly.png/revision/latest/scale-to-width-down/90?cb=20180820124931\n",
      "\n",
      "https://static.wikia.nocookie.net/graveyardkeeper_gamepedia_en/images/9/94/Health.png/revision/latest/scale-to-width-down/14?cb=20180604212705\n",
      "\n",
      "https://static.wikia.nocookie.net/graveyardkeeper_gamepedia_en/images/9/94/Health.png/revision/latest/scale-to-width-down/14?cb=20180604212705\n",
      "\n",
      "https://static.wikia.nocookie.net/graveyardkeeper_gamepedia_en/images/0/07/Iron_maiden.png/revision/latest/scale-to-width-down/90?cb=20180820124929\n",
      "\n",
      "https://static.wikia.nocookie.net/graveyardkeeper_gamepedia_en/images/9/94/Health.png/revision/latest/scale-to-width-down/14?cb=20180604212705\n",
      "\n",
      "https://static.wikia.nocookie.net/graveyardkeeper_gamepedia_en/images/9/94/Health.png/revision/latest/scale-to-width-down/14?cb=20180604212705\n",
      "\n",
      "https://static.wikia.nocookie.net/graveyardkeeper_gamepedia_en/images/d/d6/Giant_spider.png/revision/latest/scale-to-width-down/90?cb=20180820124924\n",
      "\n",
      "https://static.wikia.nocookie.net/graveyardkeeper_gamepedia_en/images/9/94/Health.png/revision/latest/scale-to-width-down/14?cb=20180604212705\n",
      "\n",
      "https://static.wikia.nocookie.net/graveyardkeeper_gamepedia_en/images/9/94/Health.png/revision/latest/scale-to-width-down/14?cb=20180604212705\n",
      "\n",
      "https://static.wikia.nocookie.net/graveyardkeeper_gamepedia_en/images/9/94/Health.png/revision/latest/scale-to-width-down/14?cb=20180604212705\n",
      "\n",
      "https://static.wikia.nocookie.net/graveyardkeeper_gamepedia_en/images/9/90/Lightning_ball.png/revision/latest/scale-to-width-down/90?cb=20180820124928\n",
      "\n",
      "https://static.wikia.nocookie.net/graveyardkeeper_gamepedia_en/images/9/94/Health.png/revision/latest/scale-to-width-down/14?cb=20180604212705\n",
      "\n",
      "https://static.wikia.nocookie.net/graveyardkeeper_gamepedia_en/images/9/94/Health.png/revision/latest/scale-to-width-down/14?cb=20180604212705\n",
      "\n",
      "https://static.wikia.nocookie.net/graveyardkeeper_gamepedia_en/images/2/22/Rock_golem.png/revision/latest/scale-to-width-down/120?cb=20190314103828\n",
      "\n",
      "https://static.wikia.nocookie.net/graveyardkeeper_gamepedia_en/images/9/94/Health.png/revision/latest/scale-to-width-down/14?cb=20180604212705\n",
      "\n",
      "https://static.wikia.nocookie.net/graveyardkeeper_gamepedia_en/images/9/94/Health.png/revision/latest/scale-to-width-down/14?cb=20180604212705\n",
      "\n",
      "https://static.wikia.nocookie.net/graveyardkeeper_gamepedia_en/images/9/94/Health.png/revision/latest/scale-to-width-down/14?cb=20180604212705\n",
      "\n",
      "https://static.wikia.nocookie.net/graveyardkeeper_gamepedia_en/images/2/2e/Stone_golem.png/revision/latest/scale-to-width-down/120?cb=20190314103754\n",
      "\n",
      "https://static.wikia.nocookie.net/graveyardkeeper_gamepedia_en/images/9/94/Health.png/revision/latest/scale-to-width-down/14?cb=20180604212705\n",
      "\n",
      "https://static.wikia.nocookie.net/graveyardkeeper_gamepedia_en/images/9/94/Health.png/revision/latest/scale-to-width-down/14?cb=20180604212705\n",
      "\n",
      "https://static.wikia.nocookie.net/graveyardkeeper_gamepedia_en/images/9/94/Health.png/revision/latest/scale-to-width-down/14?cb=20180604212705\n",
      "\n",
      "https://static.wikia.nocookie.net/graveyardkeeper_gamepedia_en/images/1/11/Obsidian_golem.png/revision/latest/scale-to-width-down/120?cb=20190314103657\n",
      "\n",
      "https://static.wikia.nocookie.net/graveyardkeeper_gamepedia_en/images/9/94/Health.png/revision/latest/scale-to-width-down/14?cb=20180604212705\n",
      "\n",
      "https://static.wikia.nocookie.net/graveyardkeeper_gamepedia_en/images/9/94/Health.png/revision/latest/scale-to-width-down/14?cb=20180604212705\n",
      "\n",
      "https://static.wikia.nocookie.net/graveyardkeeper_gamepedia_en/images/9/94/Health.png/revision/latest/scale-to-width-down/14?cb=20180604212705\n",
      "\n",
      "//i.creativecommons.org/l/by-nc-sa/3.0/88x31.png\n",
      "\n",
      "/resources-ucp/resources/assets/poweredby_mediawiki_88x31.png\n",
      "\n",
      "I found 46 monsters in DeadCells Website\n"
     ]
    }
   ],
   "source": [
    "# open the url\n",
    "html = urlopen('https://graveyardkeeper.gamepedia.com/Monsters')\n",
    "bs = BeautifulSoup(html, 'html.parser')\n",
    "# find all img elements where .png in their 'src'\n",
    "images = bs.find_all('img', {'src':re.compile('.png')})\n",
    "\n",
    "# print the url of each image scrapped\n",
    "for image in images: \n",
    "    print(image['src']+'\\n')\n",
    "\n",
    "# check number of images\n",
    "print(f'I found {len(images)} monsters in DeadCells Website')"
   ]
  },
  {
   "cell_type": "markdown",
   "metadata": {},
   "source": [
    "# Download the images based on their urls"
   ]
  },
  {
   "cell_type": "code",
   "execution_count": 4,
   "metadata": {},
   "outputs": [],
   "source": [
    "# function to download images based on their url\n",
    "def download_png(url,file_path,file_name):\n",
    "    full_path= file_path+file_name+'.png'\n",
    "    # download the image from the url to the full_path\n",
    "    urllib.request.urlretrieve(url,full_path)"
   ]
  },
  {
   "cell_type": "code",
   "execution_count": 6,
   "metadata": {},
   "outputs": [],
   "source": [
    "i=0\n",
    "for img in images[:-2]:\n",
    "    try:\n",
    "        download_png(img['src'],'keeper/',f'keeper_{i}')\n",
    "        i+=1\n",
    "    except:\n",
    "        pass"
   ]
  },
  {
   "cell_type": "code",
   "execution_count": null,
   "metadata": {},
   "outputs": [],
   "source": []
  }
 ],
 "metadata": {
  "kernelspec": {
   "display_name": "Python 3",
   "language": "python",
   "name": "python3"
  },
  "language_info": {
   "codemirror_mode": {
    "name": "ipython",
    "version": 3
   },
   "file_extension": ".py",
   "mimetype": "text/x-python",
   "name": "python",
   "nbconvert_exporter": "python",
   "pygments_lexer": "ipython3",
   "version": "3.7.6"
  }
 },
 "nbformat": 4,
 "nbformat_minor": 4
}
